{
 "cells": [
  {
   "cell_type": "code",
   "execution_count": 53,
   "metadata": {
    "collapsed": false
   },
   "outputs": [
    {
     "name": "stdout",
     "output_type": "stream",
     "text": [
      "[2.1059313125497727, 0.03932224670258877, -0.03974214941530973] [2.0797196183119722, -0.018585513155168973, -0.0042826192068989785] [0.050257288366566476, 0.23930055749508439, 0.039486120371209174]\n"
     ]
    }
   ],
   "source": [
    "from __future__ import division\n",
    "import numpy as np\n",
    "\n",
    "# P1 Tarea 8\n",
    "\n",
    "np.random.seed(100)\n",
    "\n",
    "\n",
    "class Centro_de_masa(object):\n",
    "    def __init__(self, vol_caja, num_puntos, a, b, c):\n",
    "        '''Inicializa la clase Centro de masa con las\n",
    "        dimensiones del volumen de la caja para el\n",
    "        metodo de monte carlo y define en variables la\n",
    "        cantidad de puntos aleatorios a usar dentro de la\n",
    "        caja'''\n",
    "        self.V0 = vol_caja  # Arreglo con largos de la caja [lx, ly, lz]\n",
    "        self.V0num = vol_caja[0] * vol_caja[1] * vol_caja[2]\n",
    "        self.N = num_puntos\n",
    "        self.a = a\n",
    "        self.b = b\n",
    "        self.c = c\n",
    "\n",
    "    def interseccion(self, ecs, x, y, z):\n",
    "        '''Función que intersecta dos ecuaciones dentro\n",
    "        del arreglo ecs'''\n",
    "        return (ecs[0](x, y, z) and ecs[1](x, y, z)) == True\n",
    "\n",
    "    def calcula_CM(self, ecs, densidad):\n",
    "        '''Recibe como argumentos ecuaciones que describen\n",
    "        a un solido rigido, su densidad y calcula el centro\n",
    "        de masa del solido'''\n",
    "        sumx = 0\n",
    "        sumy = 0\n",
    "        sumz = 0\n",
    "        sumM = 0\n",
    "        for i in range(self.N):\n",
    "            x = self.V0[0] * np.random.random_sample() + self.a\n",
    "            y = self.V0[1] * np.random.random_sample() + self.b\n",
    "            z = self.V0[2] * np.random.random_sample() + self.c\n",
    "            if self.interseccion(ecs, x, y, z) is True:\n",
    "                sumx += x * densidad(x, y, z) * self.V0num / self.N\n",
    "                sumy += y * densidad(x, y, z) * self.V0num / self.N\n",
    "                sumz += z * densidad(x, y, z) * self.V0num / self.N\n",
    "                sumM += densidad(x, y, z) * self.V0num / self.N\n",
    "        CMX = sumx / sumM\n",
    "        CMY = sumy / sumM\n",
    "        CMZ = sumz / sumM\n",
    "        CM = [CMX, CMY, CMZ]\n",
    "        return CM\n",
    "\n",
    "    def itera_CM_N_veces(self, ecs, densidad, num_ejecuciones):\n",
    "        '''Entrega promedio de CM y su desviacion estandar '''\n",
    "        n = num_ejecuciones\n",
    "        CMXarray = np.zeros(num_ejecuciones)\n",
    "        CMYarray = np.zeros(num_ejecuciones)\n",
    "        CMZarray = np.zeros(num_ejecuciones)\n",
    "        for i in range(num_ejecuciones):\n",
    "            CM = self.calcula_CM(ecs, densidad)\n",
    "            CMXarray[i] = CM[0]\n",
    "            CMYarray[i] = CM[1]\n",
    "            CMZarray[i] = CM[2]\n",
    "        CMmean = [np.mean(CMXarray), np.mean(CMYarray), np.mean(CMZarray)]\n",
    "        CMstd = [np.std(CMXarray), np.std(CMYarray), np.std(CMZarray)]\n",
    "        return CMmean, CMstd\n",
    "\n",
    "\n",
    "# Main Setup\n",
    "\n",
    "\n",
    "def toro(x, y, z):\n",
    "    toro = z**2 + (np.sqrt(x**2 + y**2) - 3)**2 <= 1\n",
    "    return toro\n",
    "\n",
    "\n",
    "def cilindro(x, y, z):\n",
    "    cilindro = (x-2)**2 + z**2 <= 1\n",
    "    return cilindro\n",
    "\n",
    "\n",
    "def densidad(x, y, z):\n",
    "    rho = 0.5 * (x**2 + y**2 + z**2)\n",
    "    return rho\n",
    "\n",
    "\n",
    "N = 1000\n",
    "Nejecuciones = 100\n",
    "V = [8, 8, 2]\n",
    "'''El toro esta en el plano xy y el\n",
    "cilindo esta acostado en el plano xy tambien'''\n",
    "a, b, c = [-4, -4, -1]\n",
    "solido = Centro_de_masa(V, N, a, b, c)\n",
    "CM = solido.calcula_CM([toro, cilindro], densidad)\n",
    "CMmean, CMstd = solido.itera_CM_N_veces([toro, cilindro],\n",
    "                                        densidad, Nejecuciones)\n",
    "print CM, CMmean, CMstd\n",
    "\n",
    "# P2 Tarea 8\n"
   ]
  },
  {
   "cell_type": "code",
   "execution_count": null,
   "metadata": {
    "collapsed": true
   },
   "outputs": [],
   "source": []
  }
 ],
 "metadata": {
  "kernelspec": {
   "display_name": "Python 2",
   "language": "python",
   "name": "python2"
  },
  "language_info": {
   "codemirror_mode": {
    "name": "ipython",
    "version": 2
   },
   "file_extension": ".py",
   "mimetype": "text/x-python",
   "name": "python",
   "nbconvert_exporter": "python",
   "pygments_lexer": "ipython2",
   "version": "2.7.10"
  }
 },
 "nbformat": 4,
 "nbformat_minor": 0
}
